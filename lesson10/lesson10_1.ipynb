{
 "cells": [
  {
   "cell_type": "code",
   "execution_count": 2,
   "metadata": {},
   "outputs": [
    {
     "data": {
      "text/plain": [
       "{'tw': 'Taiwan', 'jp': 'Japan', 'hk': 'Kong Kong'}"
      ]
     },
     "execution_count": 2,
     "metadata": {},
     "output_type": "execute_result"
    }
   ],
   "source": [
    "#dictionary\n",
    "codes = {\"tw\":\"Taiwan\",\n",
    "\"jp\":\"Japan\",\n",
    "\"hk\":\"Kong Kong\"}\n",
    "codes"
   ]
  },
  {
   "cell_type": "code",
   "execution_count": 6,
   "metadata": {},
   "outputs": [
    {
     "data": {
      "text/plain": [
       "'Japan'"
      ]
     },
     "execution_count": 6,
     "metadata": {},
     "output_type": "execute_result"
    }
   ],
   "source": [
    "#subscript\n",
    "#取上面的值\n",
    "#map資料\n",
    "codes['jp']"
   ]
  },
  {
   "cell_type": "code",
   "execution_count": 4,
   "metadata": {},
   "outputs": [
    {
     "data": {
      "text/plain": [
       "{'tw': 'Taiwan', 'jp': 'Japan', 'hk': 'Kong Kong', 'us': '美國'}"
      ]
     },
     "execution_count": 4,
     "metadata": {},
     "output_type": "execute_result"
    }
   ],
   "source": [
    "codes[\"us\"] = \"美國\"\n",
    "codes"
   ]
  },
  {
   "cell_type": "code",
   "execution_count": 10,
   "metadata": {},
   "outputs": [
    {
     "name": "stdout",
     "output_type": "stream",
     "text": [
      "tw\n",
      "Taiwan\n",
      "=========\n",
      "jp\n",
      "Japan\n",
      "=========\n",
      "hk\n",
      "Kong Kong\n",
      "=========\n",
      "us\n",
      "美國\n",
      "=========\n"
     ]
    }
   ],
   "source": [
    "#iterable\n",
    "for key in codes:\n",
    "    print(key)\n",
    "    print(codes[key])\n",
    "    print(\"=========\")"
   ]
  },
  {
   "cell_type": "code",
   "execution_count": 18,
   "metadata": {},
   "outputs": [
    {
     "data": {
      "text/plain": [
       "True"
      ]
     },
     "execution_count": 18,
     "metadata": {},
     "output_type": "execute_result"
    }
   ],
   "source": [
    "#key in d (若d中存在key則會返回Ture,否則False)\n",
    "'ln' not in codes\n",
    "'ln' in codes\n",
    "'us' in codes"
   ]
  },
  {
   "cell_type": "code",
   "execution_count": 23,
   "metadata": {},
   "outputs": [
    {
     "name": "stdout",
     "output_type": "stream",
     "text": [
      "tw\n",
      "jp\n",
      "hk\n",
      "us\n"
     ]
    }
   ],
   "source": [
    "#實體方法\n",
    "for i in codes.keys():\n",
    "    print(i)"
   ]
  },
  {
   "cell_type": "code",
   "execution_count": 24,
   "metadata": {},
   "outputs": [
    {
     "name": "stdout",
     "output_type": "stream",
     "text": [
      "Taiwan\n",
      "Japan\n",
      "Kong Kong\n",
      "美國\n"
     ]
    }
   ],
   "source": [
    "for i in codes.values():\n",
    "    print(i)"
   ]
  },
  {
   "cell_type": "code",
   "execution_count": 25,
   "metadata": {},
   "outputs": [
    {
     "name": "stdout",
     "output_type": "stream",
     "text": [
      "('tw', 'Taiwan')\n",
      "('jp', 'Japan')\n",
      "('hk', 'Kong Kong')\n",
      "('us', '美國')\n"
     ]
    }
   ],
   "source": [
    "#傳出tuple\n",
    "for item in codes.items():\n",
    "    print(item)"
   ]
  },
  {
   "cell_type": "code",
   "execution_count": 27,
   "metadata": {},
   "outputs": [
    {
     "name": "stdout",
     "output_type": "stream",
     "text": [
      "tw\n",
      "Taiwan\n",
      "========\n",
      "jp\n",
      "Japan\n",
      "========\n",
      "hk\n",
      "Kong Kong\n",
      "========\n",
      "us\n",
      "美國\n",
      "========\n"
     ]
    }
   ],
   "source": [
    "#傳出tuple\n",
    "for key,value in codes.items():\n",
    "    print(key)\n",
    "    print(value)\n",
    "    print(\"========\")"
   ]
  }
 ],
 "metadata": {
  "kernelspec": {
   "display_name": "Python 3",
   "language": "python",
   "name": "python3"
  },
  "language_info": {
   "codemirror_mode": {
    "name": "ipython",
    "version": 3
   },
   "file_extension": ".py",
   "mimetype": "text/x-python",
   "name": "python",
   "nbconvert_exporter": "python",
   "pygments_lexer": "ipython3",
   "version": "3.10.13"
  }
 },
 "nbformat": 4,
 "nbformat_minor": 2
}
