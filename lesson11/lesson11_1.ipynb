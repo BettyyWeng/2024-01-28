{
 "cells": [
  {
   "cell_type": "code",
   "execution_count": null,
   "metadata": {},
   "outputs": [],
   "source": [
    "students:list[dict] = []\n",
    "\n",
    "for _ in range(50):\n",
    "    student = {'國文':60,'英文':60,'數學':60}\n",
    "    students.append(student)\n",
    "students\n"
   ]
  },
  {
   "cell_type": "code",
   "execution_count": null,
   "metadata": {},
   "outputs": [],
   "source": [
    "from random import randint\n",
    "\n",
    "students:list[dict] = []\n",
    "\n",
    "for _ in range(50):\n",
    "    student = {'國文':randint(50,100),\n",
    "               '英文':randint(50,100),\n",
    "               '數學':randint(50,100)}\n",
    "    students.append(student)\n",
    "students"
   ]
  },
  {
   "cell_type": "code",
   "execution_count": null,
   "metadata": {},
   "outputs": [],
   "source": [
    "students:list[dict] = []\n",
    "\n",
    "for _ in range(50):\n",
    "    student = {}\n",
    "    student['國文'] = randint(50,100)\n",
    "    student['英文'] = randint(50,100)\n",
    "    student['數學'] = randint(50,100)\n",
    "    students.append(student)\n",
    "students"
   ]
  },
  {
   "cell_type": "code",
   "execution_count": null,
   "metadata": {},
   "outputs": [],
   "source": [
    "students:list[dict] = []\n",
    "\n",
    "for _ in range(50):\n",
    "    student:dict[str,int] = {}\n",
    "    for subject in ['國文','英文','數學']:\n",
    "        student[subject] = randint(50,100)\n",
    "    students.append(student)\n",
    "students"
   ]
  },
  {
   "cell_type": "code",
   "execution_count": 11,
   "metadata": {},
   "outputs": [
    {
     "name": "stdout",
     "output_type": "stream",
     "text": [
      "請輸入學生數量:5\n"
     ]
    },
    {
     "data": {
      "text/plain": [
       "[{'國文': 86, '英文': 84, '數學': 87},\n",
       " {'國文': 67, '英文': 96, '數學': 100},\n",
       " {'國文': 91, '英文': 62, '數學': 77},\n",
       " {'國文': 79, '英文': 75, '數學': 91},\n",
       " {'國文': 78, '英文': 93, '數學': 59}]"
      ]
     },
     "execution_count": 11,
     "metadata": {},
     "output_type": "execute_result"
    }
   ],
   "source": [
    "import pyinputplus as pyip\n",
    "from random import randint\n",
    "\n",
    "nums = pyip.inputInt(\"請輸入學生數量:\")\n",
    "print(nums)\n",
    "\n",
    "students:list[dict] = []\n",
    "for _ in range(nums):\n",
    "    student:dict[str,int] = {}\n",
    "    for subject in ['國文','英文','數學']:\n",
    "        student[subject] = randint(50,100)\n",
    "    students.append(student)\n",
    "students"
   ]
  },
  {
   "cell_type": "code",
   "execution_count": 3,
   "metadata": {},
   "outputs": [
    {
     "name": "stdout",
     "output_type": "stream",
     "text": [
      "請輸入學生數量:[{'國文': 52, '數學': 53, '英文': 79},\n",
      " {'國文': 100, '數學': 57, '英文': 56},\n",
      " {'國文': 69, '數學': 96, '英文': 95},\n",
      " {'國文': 54, '數學': 87, '英文': 94},\n",
      " {'國文': 93, '數學': 64, '英文': 94},\n",
      " {'國文': 100, '數學': 91, '英文': 60},\n",
      " {'國文': 60, '數學': 94, '英文': 69},\n",
      " {'國文': 55, '數學': 65, '英文': 52},\n",
      " {'國文': 68, '數學': 51, '英文': 81},\n",
      " {'國文': 85, '數學': 81, '英文': 56}]\n"
     ]
    }
   ],
   "source": [
    "#使用function, return\n",
    "import pyinputplus as pyip\n",
    "from random import randint\n",
    "from pprint import pprint\n",
    "\n",
    "def get_students(n:int) ->list[dict]:\n",
    "    students:list[dict] = []\n",
    "    for _ in range(n):\n",
    "        student:dict[str,int] = {}\n",
    "        for subject in ['國文','英文','數學']:\n",
    "            student[subject] = randint(50,100)\n",
    "        students.append(student)\n",
    "    return students\n",
    "\n",
    "nums = pyip.inputInt(\"請輸入學生數量:\")\n",
    "stus = get_students(n=nums)\n",
    "pprint(stus)"
   ]
  }
 ],
 "metadata": {
  "kernelspec": {
   "display_name": "Python 3",
   "language": "python",
   "name": "python3"
  },
  "language_info": {
   "codemirror_mode": {
    "name": "ipython",
    "version": 3
   },
   "file_extension": ".py",
   "mimetype": "text/x-python",
   "name": "python",
   "nbconvert_exporter": "python",
   "pygments_lexer": "ipython3",
   "version": "3.10.13"
  }
 },
 "nbformat": 4,
 "nbformat_minor": 2
}
