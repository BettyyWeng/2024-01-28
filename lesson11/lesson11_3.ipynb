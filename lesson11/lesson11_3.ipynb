{
 "cells": [
  {
   "cell_type": "code",
   "execution_count": 5,
   "metadata": {},
   "outputs": [
    {
     "data": {
      "text/plain": [
       "[{'國文': 52, '數學': 53, '英文': 79},\n",
       " {'國文': 100, '數學': 57, '英文': 56},\n",
       " {'國文': 69, '數學': 96, '英文': 95},\n",
       " {'國文': 54, '數學': 87, '英文': 94},\n",
       " {'國文': 93, '數學': 64, '英文': 94},\n",
       " {'國文': 100, '數學': 91, '英文': 60},\n",
       " {'國文': 60, '數學': 94, '英文': 69},\n",
       " {'國文': 55, '數學': 65, '英文': 52},\n",
       " {'國文': 68, '數學': 51, '英文': 81},\n",
       " {'國文': 100, '數學': 100, '英文': 100}]"
      ]
     },
     "execution_count": 5,
     "metadata": {},
     "output_type": "execute_result"
    }
   ],
   "source": [
    "students = [{'國文': 52, '數學': 53, '英文': 79},\n",
    "            {'國文': 100, '數學': 57, '英文': 56},\n",
    "            {'國文': 69, '數學': 96, '英文': 95},\n",
    "            {'國文': 54, '數學': 87, '英文': 94},\n",
    "            {'國文': 93, '數學': 64, '英文': 94},\n",
    "            {'國文': 100, '數學': 91, '英文': 60},\n",
    "            {'國文': 60, '數學': 94, '英文': 69},\n",
    "            {'國文': 55, '數學': 65, '英文': 52},\n",
    "            {'國文': 68, '數學': 51, '英文': 81},\n",
    "            {'國文': 100, '數學': 100, '英文': 100}]\n",
    "\n",
    "students"
   ]
  },
  {
   "cell_type": "code",
   "execution_count": 6,
   "metadata": {},
   "outputs": [
    {
     "name": "stdout",
     "output_type": "stream",
     "text": [
      "students.csv存檔完成\n"
     ]
    }
   ],
   "source": [
    "import csv\n",
    "#建立file實體，這個實體會自動close()->with as\n",
    "#先建立file實體，再建立DictWriter實體,及其實體方法\n",
    "with open('students.csv', mode='w', encoding='utf-8', newline='') as csvfile:\n",
    "    writer = csv.DictWriter(csvfile, fieldnames=['國文','數學','英文'])\n",
    "    writer.writeheader()\n",
    "    writer.writerows(students)\n",
    "\n",
    "print('students.csv存檔完成')\n"
   ]
  }
 ],
 "metadata": {
  "kernelspec": {
   "display_name": "Python 3",
   "language": "python",
   "name": "python3"
  },
  "language_info": {
   "codemirror_mode": {
    "name": "ipython",
    "version": 3
   },
   "file_extension": ".py",
   "mimetype": "text/x-python",
   "name": "python",
   "nbconvert_exporter": "python",
   "pygments_lexer": "ipython3",
   "version": "3.10.13"
  }
 },
 "nbformat": 4,
 "nbformat_minor": 2
}
