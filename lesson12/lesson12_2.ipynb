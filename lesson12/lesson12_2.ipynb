{
 "cells": [
  {
   "cell_type": "code",
   "execution_count": 2,
   "metadata": {},
   "outputs": [
    {
     "data": {
      "text/plain": [
       "{'國文': 78, '英文': 86, '數學': 92, '地理': 65, '歷史': 91}"
      ]
     },
     "execution_count": 2,
     "metadata": {},
     "output_type": "execute_result"
    }
   ],
   "source": [
    "#建立學生分數\n",
    "score = {'國文':78,\n",
    "         '英文':86,\n",
    "         '數學':92,\n",
    "         '地理':65,\n",
    "         '歷史':91}\n",
    "score"
   ]
  },
  {
   "cell_type": "code",
   "execution_count": 3,
   "metadata": {},
   "outputs": [
    {
     "data": {
      "text/plain": [
       "__main__.Student"
      ]
     },
     "execution_count": 3,
     "metadata": {},
     "output_type": "execute_result"
    }
   ],
   "source": [
    "#自訂一個class Student,自訂資料類型Student\n",
    "#initializer用class的名稱\n",
    "class Student:\n",
    "    pass\n",
    "stu1 = Student()\n",
    "type(stu1)"
   ]
  },
  {
   "cell_type": "code",
   "execution_count": 4,
   "metadata": {},
   "outputs": [
    {
     "data": {
      "text/plain": [
       "(78, 86, 92, 65, 91)"
      ]
     },
     "execution_count": 4,
     "metadata": {},
     "output_type": "execute_result"
    }
   ],
   "source": [
    "#先建立實體才建立屬性(但是太笨了) #tuple\n",
    "class Student:\n",
    "    pass\n",
    "\n",
    "stu1 = Student()\n",
    "stu1.國文 = 78\n",
    "stu1.英文 = 86\n",
    "stu1.數學 = 92\n",
    "stu1.地理 = 65\n",
    "stu1.歷史 = 91\n",
    "stu1.國文,stu1.英文,stu1.數學,stu1.地理,stu1.歷史"
   ]
  },
  {
   "cell_type": "code",
   "execution_count": 10,
   "metadata": {},
   "outputs": [
    {
     "data": {
      "text/plain": [
       "91"
      ]
     },
     "execution_count": 10,
     "metadata": {},
     "output_type": "execute_result"
    }
   ],
   "source": [
    "#用pydantic basemodel, 建立完實體便有屬性\n",
    "#初始化時先給值\n",
    "from pydantic import BaseModel\n",
    "\n",
    "class Student(BaseModel):\n",
    "    國文:int\n",
    "    英文:int\n",
    "    數學:int\n",
    "    地理:int\n",
    "    歷史:int\n",
    "stu1 = Student(國文=78,英文=86,數學=92,地理=65,歷史=91)\n",
    "stu1.歷史"
   ]
  },
  {
   "cell_type": "code",
   "execution_count": 11,
   "metadata": {},
   "outputs": [
    {
     "data": {
      "text/plain": [
       "Student(國文=0, 英文=0, 數學=0, 地理=0, 歷史=0)"
      ]
     },
     "execution_count": 11,
     "metadata": {},
     "output_type": "execute_result"
    }
   ],
   "source": [
    "#建立default值\n",
    "from pydantic import BaseModel\n",
    "\n",
    "class Student(BaseModel):\n",
    "    國文:int = 0\n",
    "    英文:int = 0\n",
    "    數學:int = 0\n",
    "    地理:int = 0\n",
    "    歷史:int = 0\n",
    "stu1 = Student()\n",
    "stu1"
   ]
  },
  {
   "cell_type": "code",
   "execution_count": 13,
   "metadata": {},
   "outputs": [
    {
     "data": {
      "text/plain": [
       "Student(國文=97, 英文=63, 數學=90, 地理=53, 歷史=75)"
      ]
     },
     "execution_count": 13,
     "metadata": {},
     "output_type": "execute_result"
    }
   ],
   "source": [
    "#建立default值\n",
    "from pydantic import BaseModel\n",
    "from random import randint\n",
    "\n",
    "class Student(BaseModel):\n",
    "    國文:int = randint(50,100)\n",
    "    英文:int = randint(50,100)\n",
    "    數學:int = randint(50,100)\n",
    "    地理:int = randint(50,100)\n",
    "    歷史:int = randint(50,100)\n",
    "stu1 = Student()\n",
    "stu1"
   ]
  },
  {
   "cell_type": "code",
   "execution_count": 18,
   "metadata": {},
   "outputs": [
    {
     "data": {
      "text/plain": [
       "(Student(國文=100, 英文=71, 數學=57, 地理=58, 歷史=62),\n",
       " Student(國文=65, 英文=74, 數學=53, 地理=82, 歷史=85))"
      ]
     },
     "execution_count": 18,
     "metadata": {},
     "output_type": "execute_result"
    }
   ],
   "source": [
    "class Student(BaseModel):\n",
    "    國文:int = 0\n",
    "    英文:int = 0\n",
    "    數學:int = 0\n",
    "    地理:int = 0\n",
    "    歷史:int = 0\n",
    "    \n",
    "stu1 = Student(國文=randint(50,100),\n",
    "               英文=randint(50,100),\n",
    "               數學=randint(50,100),\n",
    "               地理=randint(50,100),\n",
    "               歷史=randint(50,100),)\n",
    "stu2 = Student(國文=randint(50,100),\n",
    "               英文=randint(50,100),\n",
    "               數學=randint(50,100),\n",
    "               地理=randint(50,100),\n",
    "               歷史=randint(50,100),)\n",
    "stu1,stu2"
   ]
  }
 ],
 "metadata": {
  "kernelspec": {
   "display_name": "Python 3",
   "language": "python",
   "name": "python3"
  },
  "language_info": {
   "codemirror_mode": {
    "name": "ipython",
    "version": 3
   },
   "file_extension": ".py",
   "mimetype": "text/x-python",
   "name": "python",
   "nbconvert_exporter": "python",
   "pygments_lexer": "ipython3",
   "version": "3.10.13"
  }
 },
 "nbformat": 4,
 "nbformat_minor": 2
}
