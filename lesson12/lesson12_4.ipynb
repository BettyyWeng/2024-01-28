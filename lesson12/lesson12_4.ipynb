{
 "cells": [
  {
   "cell_type": "code",
   "execution_count": null,
   "metadata": {},
   "outputs": [],
   "source": [
    "with open('names.txt',encoding='utf-8') as file:\n",
    "    names_str:str = file.read()\n",
    "names:list[str] = names_str.split(sep='\\n')\n",
    "names"
   ]
  },
  {
   "cell_type": "code",
   "execution_count": 2,
   "metadata": {},
   "outputs": [
    {
     "data": {
      "text/plain": [
       "299"
      ]
     },
     "execution_count": 2,
     "metadata": {},
     "output_type": "execute_result"
    }
   ],
   "source": [
    "len(names)"
   ]
  },
  {
   "cell_type": "code",
   "execution_count": null,
   "metadata": {},
   "outputs": [],
   "source": [
    "import random \n",
    "num = 50\n",
    "\n",
    "randomNames:list[str] = random.choices(names,k=num)\n",
    "randomNames"
   ]
  },
  {
   "cell_type": "code",
   "execution_count": 8,
   "metadata": {},
   "outputs": [
    {
     "data": {
      "text/plain": [
       "{'name': '翁苡倢', 'height': 160, 'weight': 51}"
      ]
     },
     "execution_count": 8,
     "metadata": {},
     "output_type": "execute_result"
    }
   ],
   "source": [
    "from pydantic import BaseModel\n",
    "from random import randint\n",
    "\n",
    "class Person(BaseModel): #自訂class #建立欄位\n",
    "    name:str\n",
    "    height:int\n",
    "    weight:int\n",
    "\n",
    "#實體->dict\n",
    "p1 = Person(name='翁苡倢',height=randint(150,195),weight=randint(50,110))\n",
    "p1.model_dump() \n"
   ]
  },
  {
   "cell_type": "code",
   "execution_count": 12,
   "metadata": {},
   "outputs": [
    {
     "data": {
      "text/plain": [
       "Person(name='翁苡倢', height=193, weight=63)"
      ]
     },
     "execution_count": 12,
     "metadata": {},
     "output_type": "execute_result"
    }
   ],
   "source": [
    "from pydantic import BaseModel\n",
    "from random import randint\n",
    "\n",
    "class Person(BaseModel): #自訂class #建立欄位\n",
    "    name:str\n",
    "    height:int\n",
    "    weight:int\n",
    "\n",
    "#dict->實體\n",
    "#dict的key是字串\n",
    "p2 = Person.model_validate({'name':'翁苡倢',\n",
    "                            'height':randint(150,195),\n",
    "                            'weight':randint(50,100)})\n",
    "p2"
   ]
  },
  {
   "cell_type": "code",
   "execution_count": 11,
   "metadata": {},
   "outputs": [
    {
     "name": "stdout",
     "output_type": "stream",
     "text": [
      "name='陳志偉' height=175 weight=99\n",
      "name='林康亮' height=176 weight=84\n",
      "name='陳樂紫' height=185 weight=90\n",
      "name='羅幸娥' height=194 weight=52\n",
      "name='張明惟' height=168 weight=50\n",
      "name='林冠蕙' height=156 weight=77\n",
      "name='郭淑真' height=163 weight=53\n",
      "name='陳志偉' height=187 weight=98\n",
      "name='林珍旺' height=173 weight=50\n",
      "name='王明昇' height=160 weight=96\n",
      "name='楊又源' height=189 weight=99\n",
      "name='陳怡容' height=185 weight=94\n",
      "name='陳倩妮' height=153 weight=98\n",
      "name='李彥伸' height=167 weight=100\n",
      "name='李雅怡' height=192 weight=88\n",
      "name='游詩亞' height=165 weight=55\n",
      "name='藍哲嘉' height=150 weight=89\n",
      "name='杜明延' height=160 weight=91\n",
      "name='王惠皓' height=171 weight=95\n",
      "name='柯宜臻' height=189 weight=85\n",
      "name='林怡偉' height=160 weight=71\n",
      "name='林麗萍' height=171 weight=62\n",
      "name='謝貞妃' height=176 weight=102\n",
      "name='高智超' height=172 weight=90\n",
      "name='蔡偉成' height=185 weight=88\n",
      "name='黃麗美' height=170 weight=97\n",
      "name='王孝純' height=183 weight=54\n",
      "name='林志喜' height=194 weight=85\n",
      "name='黃政甫' height=158 weight=64\n",
      "name='陳淑萍' height=195 weight=75\n",
      "name='陳冠霞' height=171 weight=65\n",
      "name='林志喜' height=193 weight=57\n",
      "name='黃佩玲' height=161 weight=75\n",
      "name='張嘉韋' height=159 weight=105\n",
      "name='傅佳琳' height=191 weight=55\n",
      "name='蔡欣汝' height=153 weight=86\n",
      "name='馮淑芬' height=187 weight=81\n",
      "name='林詠斌' height=154 weight=75\n",
      "name='詹忠光' height=169 weight=110\n",
      "name='林世城' height=184 weight=51\n",
      "name='龔姵君' height=151 weight=110\n",
      "name='林冠蕙' height=150 weight=83\n",
      "name='林玉佩' height=186 weight=107\n",
      "name='陳逸凡' height=177 weight=69\n",
      "name='張婕妤' height=159 weight=76\n",
      "name='盧文啟' height=157 weight=106\n",
      "name='賴佳雯' height=157 weight=90\n",
      "name='王雅琴' height=189 weight=55\n",
      "name='張天亨' height=162 weight=86\n",
      "name='金宜芳' height=192 weight=53\n"
     ]
    }
   ],
   "source": [
    "for name in randomNames:\n",
    "    person = Person(name=name, #此時傳出的person為實體\n",
    "                    height=randint(150,195),\n",
    "                    weight=randint(50,110))\n",
    "    print(person)"
   ]
  },
  {
   "cell_type": "code",
   "execution_count": 13,
   "metadata": {},
   "outputs": [
    {
     "data": {
      "text/plain": [
       "[Person(name='陳志偉', height=166, weight=90),\n",
       " Person(name='林康亮', height=156, weight=102),\n",
       " Person(name='陳樂紫', height=153, weight=105),\n",
       " Person(name='羅幸娥', height=166, weight=86),\n",
       " Person(name='張明惟', height=182, weight=88),\n",
       " Person(name='林冠蕙', height=195, weight=102),\n",
       " Person(name='郭淑真', height=177, weight=108),\n",
       " Person(name='陳志偉', height=194, weight=76),\n",
       " Person(name='林珍旺', height=154, weight=100),\n",
       " Person(name='王明昇', height=161, weight=82),\n",
       " Person(name='楊又源', height=173, weight=84),\n",
       " Person(name='陳怡容', height=164, weight=76),\n",
       " Person(name='陳倩妮', height=187, weight=85),\n",
       " Person(name='李彥伸', height=189, weight=56),\n",
       " Person(name='李雅怡', height=154, weight=105),\n",
       " Person(name='游詩亞', height=182, weight=84),\n",
       " Person(name='藍哲嘉', height=192, weight=105),\n",
       " Person(name='杜明延', height=192, weight=79),\n",
       " Person(name='王惠皓', height=154, weight=109),\n",
       " Person(name='柯宜臻', height=186, weight=81),\n",
       " Person(name='林怡偉', height=157, weight=53),\n",
       " Person(name='林麗萍', height=166, weight=57),\n",
       " Person(name='謝貞妃', height=180, weight=53),\n",
       " Person(name='高智超', height=194, weight=55),\n",
       " Person(name='蔡偉成', height=186, weight=58),\n",
       " Person(name='黃麗美', height=169, weight=59),\n",
       " Person(name='王孝純', height=195, weight=93),\n",
       " Person(name='林志喜', height=155, weight=59),\n",
       " Person(name='黃政甫', height=172, weight=92),\n",
       " Person(name='陳淑萍', height=184, weight=69),\n",
       " Person(name='陳冠霞', height=151, weight=58),\n",
       " Person(name='林志喜', height=188, weight=82),\n",
       " Person(name='黃佩玲', height=187, weight=101),\n",
       " Person(name='張嘉韋', height=191, weight=60),\n",
       " Person(name='傅佳琳', height=160, weight=72),\n",
       " Person(name='蔡欣汝', height=160, weight=84),\n",
       " Person(name='馮淑芬', height=189, weight=79),\n",
       " Person(name='林詠斌', height=151, weight=79),\n",
       " Person(name='詹忠光', height=182, weight=106),\n",
       " Person(name='林世城', height=182, weight=90),\n",
       " Person(name='龔姵君', height=192, weight=101),\n",
       " Person(name='林冠蕙', height=189, weight=65),\n",
       " Person(name='林玉佩', height=163, weight=93),\n",
       " Person(name='陳逸凡', height=171, weight=57),\n",
       " Person(name='張婕妤', height=157, weight=73),\n",
       " Person(name='盧文啟', height=181, weight=108),\n",
       " Person(name='賴佳雯', height=168, weight=64),\n",
       " Person(name='王雅琴', height=194, weight=85),\n",
       " Person(name='張天亨', height=177, weight=99),\n",
       " Person(name='金宜芳', height=184, weight=93)]"
      ]
     },
     "execution_count": 13,
     "metadata": {},
     "output_type": "execute_result"
    }
   ],
   "source": [
    "persons:list[Person] = []\n",
    "for name in randomNames:\n",
    "    person = Person(name=name, #此時傳出的person為實體\n",
    "                    height=randint(150,195),\n",
    "                    weight=randint(50,110))\n",
    "    persons.append(person)\n",
    "persons"
   ]
  },
  {
   "cell_type": "code",
   "execution_count": 15,
   "metadata": {},
   "outputs": [
    {
     "name": "stdout",
     "output_type": "stream",
     "text": [
      "楊少亮,身高:193公分,體重:72公斤,BMI:19.33,您的體重:正常\n",
      "蔡世馨,身高:155公分,體重:79公斤,BMI:32.88,您的體重:中度肥胖\n",
      "黃偉剛,身高:186公分,體重:61公斤,BMI:17.63,您的體重:過輕\n",
      "賴苑禾,身高:150公分,體重:84公斤,BMI:37.33,您的體重:重度肥胖\n",
      "程玫靖,身高:166公分,體重:87公斤,BMI:31.57,您的體重:中度肥胖\n",
      "楊偉翔,身高:151公分,體重:53公斤,BMI:23.24,您的體重:正常\n",
      "蔡至剛,身高:181公分,體重:83公斤,BMI:25.34,您的體重:過重\n",
      "賴又琦,身高:194公分,體重:76公斤,BMI:20.19,您的體重:正常\n",
      "陳倩潔,身高:157公分,體重:91公斤,BMI:36.92,您的體重:重度肥胖\n",
      "張家秀,身高:157公分,體重:50公斤,BMI:20.28,您的體重:正常\n",
      "傅佳琳,身高:186公分,體重:70公斤,BMI:20.23,您的體重:正常\n",
      "杜儀鳳,身高:159公分,體重:77公斤,BMI:30.46,您的體重:中度肥胖\n",
      "羅幸娥,身高:174公分,體重:57公斤,BMI:18.83,您的體重:正常\n",
      "李立偉,身高:181公分,體重:80公斤,BMI:24.42,您的體重:過重\n",
      "李淑芳,身高:164公分,體重:84公斤,BMI:31.23,您的體重:中度肥胖\n",
      "陳倩潔,身高:166公分,體重:79公斤,BMI:28.67,您的體重:輕度肥胖\n",
      "林佳慧,身高:163公分,體重:65公斤,BMI:24.46,您的體重:過重\n",
      "吳晴洋,身高:173公分,體重:87公斤,BMI:29.07,您的體重:輕度肥胖\n",
      "黃淑芬,身高:183公分,體重:83公斤,BMI:24.78,您的體重:過重\n",
      "陳怡珊,身高:182公分,體重:95公斤,BMI:28.68,您的體重:輕度肥胖\n",
      "程玫靖,身高:153公分,體重:67公斤,BMI:28.62,您的體重:輕度肥胖\n",
      "張凡成,身高:169公分,體重:94公斤,BMI:32.91,您的體重:中度肥胖\n",
      "白世宏,身高:179公分,體重:84公斤,BMI:26.22,您的體重:過重\n",
      "陳建香,身高:176公分,體重:54公斤,BMI:17.43,您的體重:過輕\n",
      "黃雅慧,身高:179公分,體重:80公斤,BMI:24.97,您的體重:過重\n",
      "陳樂紫,身高:165公分,體重:64公斤,BMI:23.51,您的體重:正常\n",
      "盧文啟,身高:188公分,體重:58公斤,BMI:16.41,您的體重:過輕\n",
      "黃嘉琪,身高:195公分,體重:78公斤,BMI:20.51,您的體重:正常\n",
      "陳樂紫,身高:194公分,體重:86公斤,BMI:22.85,您的體重:正常\n",
      "王雅慧,身高:176公分,體重:76公斤,BMI:24.54,您的體重:過重\n",
      "林群清,身高:178公分,體重:79公斤,BMI:24.93,您的體重:過重\n",
      "張家秀,身高:183公分,體重:75公斤,BMI:22.40,您的體重:正常\n",
      "杜明延,身高:179公分,體重:89公斤,BMI:27.78,您的體重:輕度肥胖\n",
      "林群清,身高:157公分,體重:66公斤,BMI:26.78,您的體重:過重\n",
      "鍾俞禎,身高:166公分,體重:75公斤,BMI:27.22,您的體重:輕度肥胖\n",
      "臧怡君,身高:188公分,體重:100公斤,BMI:28.29,您的體重:輕度肥胖\n",
      "葉祖雄,身高:162公分,體重:66公斤,BMI:25.15,您的體重:過重\n",
      "沈心利,身高:164公分,體重:55公斤,BMI:20.45,您的體重:正常\n",
      "鄧亭聿,身高:195公分,體重:73公斤,BMI:19.20,您的體重:正常\n",
      "蔡至剛,身高:172公分,體重:95公斤,BMI:32.11,您的體重:中度肥胖\n",
      "黃佩玲,身高:177公分,體重:53公斤,BMI:16.92,您的體重:過輕\n",
      "林希啟,身高:163公分,體重:91公斤,BMI:34.25,您的體重:中度肥胖\n",
      "陳文賢,身高:166公分,體重:92公斤,BMI:33.39,您的體重:中度肥胖\n",
      "黃婷婷,身高:158公分,體重:84公斤,BMI:33.65,您的體重:中度肥胖\n",
      "李慈啟,身高:183公分,體重:60公斤,BMI:17.92,您的體重:過輕\n",
      "陳志偉,身高:186公分,體重:96公斤,BMI:27.75,您的體重:輕度肥胖\n",
      "王明昇,身高:181公分,體重:75公斤,BMI:22.89,您的體重:正常\n",
      "柯宜臻,身高:185公分,體重:55公斤,BMI:16.07,您的體重:過輕\n",
      "楊易政,身高:189公分,體重:98公斤,BMI:27.43,您的體重:輕度肥胖\n",
      "游詩亞,身高:155公分,體重:91公斤,BMI:37.88,您的體重:重度肥胖\n"
     ]
    }
   ],
   "source": [
    "#HW 輸入50個人身高/體重/建議\n",
    "\n",
    "import random\n",
    "def getBMI(height:float,weight:float)->float:\n",
    "    bmi = weight/(height/100)**2\n",
    "    return bmi\n",
    "\n",
    "def getSuggestion(bmi:float)->str:\n",
    "    if bmi<18.5:\n",
    "        message = '您的體重:過輕'\n",
    "    elif bmi<24:\n",
    "        message = '您的體重:正常'\n",
    "    elif bmi<27:\n",
    "        message = '您的體重:過重'\n",
    "    elif bmi<30:\n",
    "        message = '您的體重:輕度肥胖'\n",
    "    elif bmi<35:\n",
    "        message = '您的體重:中度肥胖'\n",
    "    else:\n",
    "        message = '您的體重:重度肥胖'\n",
    "    return message\n",
    "\n",
    "def getNames(nums):\n",
    "    for i in range(0,nums):\n",
    "        with open('names.txt',encoding='utf-8') as file:\n",
    "            names = file.read()\n",
    "            name_list:list[str] = names.split(sep='\\n')\n",
    "            Name = random.choice(name_list)\n",
    "            height = random.randint(150,195)\n",
    "            weight = random.randint(50,100)\n",
    "            bmi = getBMI(height,weight)\n",
    "            message = getSuggestion(bmi)\n",
    "            print(f'{Name},身高:{height}公分,體重:{weight}公斤,BMI:{bmi:.2f},{message}')\n",
    "getNames(50)\n"
   ]
  }
 ],
 "metadata": {
  "kernelspec": {
   "display_name": "Python 3",
   "language": "python",
   "name": "python3"
  },
  "language_info": {
   "codemirror_mode": {
    "name": "ipython",
    "version": 3
   },
   "file_extension": ".py",
   "mimetype": "text/x-python",
   "name": "python",
   "nbconvert_exporter": "python",
   "pygments_lexer": "ipython3",
   "version": "3.10.13"
  }
 },
 "nbformat": 4,
 "nbformat_minor": 2
}
