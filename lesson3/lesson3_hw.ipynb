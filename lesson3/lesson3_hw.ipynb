{
 "cells": [
  {
   "cell_type": "code",
   "execution_count": 1,
   "metadata": {},
   "outputs": [
    {
     "name": "stdout",
     "output_type": "stream",
     "text": [
      "梯形的上底:20公分\n",
      "梯形的下底:30公分\n",
      "梯形的面積:250.00平方公分\n"
     ]
    }
   ],
   "source": [
    "#梯形公式=(上底+下底)*高/2\n",
    "\n",
    "up = eval(input(\"請輸入梯形的上底(公分)\"))\n",
    "down = eval(input(\"請輸入梯形的下底(公分)\"))\n",
    "height = eval(input(\"請輸入梯形的高(公分)\"))\n",
    "area = (up+down)*height/2\n",
    "print(f'梯形的上底:{up}公分')\n",
    "print(f'梯形的下底:{down}公分')\n",
    "print(f'梯形的面積:{area:.2f}平方公分')"
   ]
  }
 ],
 "metadata": {
  "kernelspec": {
   "display_name": "Python 3",
   "language": "python",
   "name": "python3"
  },
  "language_info": {
   "codemirror_mode": {
    "name": "ipython",
    "version": 3
   },
   "file_extension": ".py",
   "mimetype": "text/x-python",
   "name": "python",
   "nbconvert_exporter": "python",
   "pygments_lexer": "ipython3",
   "version": "3.10.13"
  }
 },
 "nbformat": 4,
 "nbformat_minor": 2
}
