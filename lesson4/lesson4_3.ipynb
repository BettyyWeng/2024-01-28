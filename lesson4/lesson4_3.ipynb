{
 "cells": [
  {
   "cell_type": "code",
   "execution_count": 1,
   "metadata": {},
   "outputs": [
    {
     "data": {
      "text/plain": [
       "True"
      ]
     },
     "execution_count": 1,
     "metadata": {},
     "output_type": "execute_result"
    }
   ],
   "source": [
    "#比較(關係)運算子\n",
    "5>3"
   ]
  },
  {
   "cell_type": "code",
   "execution_count": 2,
   "metadata": {},
   "outputs": [
    {
     "data": {
      "text/plain": [
       "False"
      ]
     },
     "execution_count": 2,
     "metadata": {},
     "output_type": "execute_result"
    }
   ],
   "source": [
    "5<3"
   ]
  },
  {
   "cell_type": "code",
   "execution_count": 4,
   "metadata": {},
   "outputs": [
    {
     "data": {
      "text/plain": [
       "True"
      ]
     },
     "execution_count": 4,
     "metadata": {},
     "output_type": "execute_result"
    }
   ],
   "source": [
    "5==5"
   ]
  },
  {
   "cell_type": "code",
   "execution_count": 5,
   "metadata": {},
   "outputs": [
    {
     "data": {
      "text/plain": [
       "False"
      ]
     },
     "execution_count": 5,
     "metadata": {},
     "output_type": "execute_result"
    }
   ],
   "source": [
    "5!=5"
   ]
  },
  {
   "cell_type": "code",
   "execution_count": 14,
   "metadata": {},
   "outputs": [
    {
     "name": "stdout",
     "output_type": "stream",
     "text": [
      "程式開始\n",
      "5>3\n",
      "5真的大於3\n",
      "程式結束\n"
     ]
    }
   ],
   "source": [
    "print('程式開始')\n",
    "#單向選擇,True的程式區塊有可能執行,也有可能不執行\n",
    "if 5>3:\n",
    "    print('5>3')\n",
    "    print('5真的大於3')\n",
    "print('程式結束')"
   ]
  },
  {
   "cell_type": "code",
   "execution_count": 16,
   "metadata": {},
   "outputs": [
    {
     "name": "stdout",
     "output_type": "stream",
     "text": [
      "程式開始\n",
      "5>3\n",
      "5真的大於3\n",
      "程式結束\n"
     ]
    }
   ],
   "source": [
    "print('程式開始')\n",
    "#雙向選擇,2個程式區塊一定執行其中一個\n",
    "if 5>3:\n",
    "    #True的程式區塊\n",
    "    print('5>3')\n",
    "    print('5真的大於3')\n",
    "else:\n",
    "    #False的程式區塊\n",
    "    print('失敗')    \n",
    "print('程式結束')"
   ]
  },
  {
   "cell_type": "code",
   "execution_count": 21,
   "metadata": {},
   "outputs": [
    {
     "name": "stdout",
     "output_type": "stream",
     "text": [
      "學生總分為250\n"
     ]
    }
   ],
   "source": [
    "#學生總分為300\n",
    "#有些學生可以加5%\n",
    "\n",
    "#type hint\n",
    "#資料型別的提醒(可有可無，有比較好)\n",
    "\n",
    "scores:int = int(input(\"請輸入學生分數(最高300分):\"))\n",
    "is_add:str = input(\"學生是否符合加分條件?(y,n):\")\n",
    "\n",
    "#單向選擇\n",
    "if is_add == \"y\":\n",
    "    scores *=1.05\n",
    "    \n",
    "print(f\"學生總分為{scores:.0f}\")"
   ]
  },
  {
   "cell_type": "code",
   "execution_count": 24,
   "metadata": {},
   "outputs": [
    {
     "name": "stdout",
     "output_type": "stream",
     "text": [
      "學生沒有加分\n",
      "學生總分為260\n"
     ]
    }
   ],
   "source": [
    "#學生總分為300\n",
    "#有些學生可以加5%\n",
    "#如果加分超過300分,就是300分\n",
    "\n",
    "#type hint\n",
    "#資料型別的提醒(可有可無，有比較好)\n",
    "\n",
    "scores:int = int(input(\"請輸入學生分數(最高300分):\"))\n",
    "is_add:str = input(\"學生是否符合加分條件?(y,n):\")\n",
    "\n",
    "#多個條件,使用巢項判斷\n",
    "if is_add == \"y\":\n",
    "    scores *=1.05\n",
    "    if scores >300:\n",
    "        scores = 300\n",
    "else:\n",
    "    print(\"學生沒有加分\")\n",
    "    \n",
    "print(f\"學生總分為{scores:.0f}\")"
   ]
  },
  {
   "cell_type": "code",
   "execution_count": 33,
   "metadata": {},
   "outputs": [
    {
     "name": "stdout",
     "output_type": "stream",
     "text": [
      "他是人類或是沒有毛的熊\n"
     ]
    }
   ],
   "source": [
    "is_furry = input(\"請問動物有毛嗎?(y,n)\")\n",
    "is_small = input(\"請問動物小的嗎?(y,n)\")\n",
    "\n",
    "if is_furry ==\"y\":\n",
    "    if is_small ==\"y\":\n",
    "        print(\"他是貓\")\n",
    "    else:\n",
    "        print(\"他是熊\")\n",
    "\n",
    "else:\n",
    "    if is_small ==\"y\":\n",
    "        print(\"他是小蜥蜴\")\n",
    "    else:\n",
    "        print(\"他是人類或是沒有毛的熊\")\n",
    "\n"
   ]
  }
 ],
 "metadata": {
  "kernelspec": {
   "display_name": "Python 3",
   "language": "python",
   "name": "python3"
  },
  "language_info": {
   "codemirror_mode": {
    "name": "ipython",
    "version": 3
   },
   "file_extension": ".py",
   "mimetype": "text/x-python",
   "name": "python",
   "nbconvert_exporter": "python",
   "pygments_lexer": "ipython3",
   "version": "3.10.13"
  }
 },
 "nbformat": 4,
 "nbformat_minor": 2
}
