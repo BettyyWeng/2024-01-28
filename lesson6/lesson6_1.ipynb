{
 "cells": [
  {
   "cell_type": "code",
   "execution_count": 1,
   "metadata": {},
   "outputs": [
    {
     "name": "stdout",
     "output_type": "stream",
     "text": [
      "請輸入數字:33\n"
     ]
    }
   ],
   "source": [
    "import pyinputplus as pyip\n",
    "#引數名稱的呼叫\n",
    "\n",
    "value = pyip.inputNum(prompt=\"請輸入數字:\", min=0, max=300)\n",
    "print(value)"
   ]
  },
  {
   "cell_type": "code",
   "execution_count": 2,
   "metadata": {},
   "outputs": [
    {
     "name": "stdout",
     "output_type": "stream",
     "text": [
      "請輸入數字:300\n"
     ]
    }
   ],
   "source": [
    "#引數名稱的呼叫,可以不依照參數的順序\n",
    "value = pyip.inputNum(max=300, min=0, prompt=\"請輸入數字:\")\n",
    "print(value)"
   ]
  },
  {
   "cell_type": "code",
   "execution_count": null,
   "metadata": {},
   "outputs": [],
   "source": [
    "#引數值的呼叫,要依照參數的順序\n",
    "value = pyip.inputNum(\"請輸入數字:\",10)"
   ]
  },
  {
   "cell_type": "code",
   "execution_count": 3,
   "metadata": {},
   "outputs": [
    {
     "name": "stdout",
     "output_type": "stream",
     "text": [
      "請輸入數字:33\n"
     ]
    }
   ],
   "source": [
    "#混和呼叫(先用引數值呼叫,再用引數名稱呼叫(可不依照順序))\n",
    "value = pyip.inputNum(prompt=\"請輸入數字:\", min=0, max=300)\n",
    "print(value)"
   ]
  },
  {
   "cell_type": "code",
   "execution_count": 1,
   "metadata": {},
   "outputs": [
    {
     "ename": "NameError",
     "evalue": "name 'pyip' is not defined",
     "output_type": "error",
     "traceback": [
      "\u001b[0;31m---------------------------------------------------------------------------\u001b[0m",
      "\u001b[0;31mNameError\u001b[0m                                 Traceback (most recent call last)",
      "Cell \u001b[0;32mIn[1], line 1\u001b[0m\n\u001b[0;32m----> 1\u001b[0m is_yes \u001b[38;5;241m=\u001b[39m \u001b[43mpyip\u001b[49m\u001b[38;5;241m.\u001b[39minputYesNo(\u001b[38;5;124m\"\u001b[39m\u001b[38;5;124m請輸入yes,no:\u001b[39m\u001b[38;5;124m\"\u001b[39m)\n\u001b[1;32m      2\u001b[0m \u001b[38;5;28mprint\u001b[39m(is_yes)\n",
      "\u001b[0;31mNameError\u001b[0m: name 'pyip' is not defined"
     ]
    }
   ],
   "source": [
    "is_yes = pyip.inputYesNo(\"請輸入yes,no:\")\n",
    "print(is_yes)"
   ]
  }
 ],
 "metadata": {
  "kernelspec": {
   "display_name": "Python 3",
   "language": "python",
   "name": "python3"
  },
  "language_info": {
   "codemirror_mode": {
    "name": "ipython",
    "version": 3
   },
   "file_extension": ".py",
   "mimetype": "text/x-python",
   "name": "python",
   "nbconvert_exporter": "python",
   "pygments_lexer": "ipython3",
   "version": "3.10.13"
  }
 },
 "nbformat": 4,
 "nbformat_minor": 2
}
