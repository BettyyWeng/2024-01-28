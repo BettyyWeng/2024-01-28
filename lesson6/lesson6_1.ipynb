{
 "cells": [
  {
   "cell_type": "code",
   "execution_count": 2,
   "metadata": {},
   "outputs": [
    {
     "name": "stdout",
     "output_type": "stream",
     "text": [
      "請輸入數字:Blank values are not allowed.\n",
      "請輸入數字:300\n"
     ]
    }
   ],
   "source": [
    "import pyinputplus as pyip\n",
    "#引數名稱的呼叫\n",
    "value = pyip.inputNum(prompt=\"請輸入數字:\",min=0,max=300)\n",
    "print(value)"
   ]
  },
  {
   "cell_type": "code",
   "execution_count": 3,
   "metadata": {},
   "outputs": [
    {
     "name": "stdout",
     "output_type": "stream",
     "text": [
      "請輸入數字:300\n"
     ]
    }
   ],
   "source": [
    "#引數名稱的呼叫,可不依照參數順序\n",
    "value = pyip.inputNum(min=0,max=300,prompt=\"請輸入數字:\")\n",
    "print(value)"
   ]
  },
  {
   "cell_type": "code",
   "execution_count": 4,
   "metadata": {},
   "outputs": [
    {
     "name": "stdout",
     "output_type": "stream",
     "text": [
      "請輸入數字:'y' is not a number.\n",
      "請輸入數字:10\n"
     ]
    }
   ],
   "source": [
    "#引數值的呼叫,要依照參數順序\n",
    "value = pyip.inputNum(\"請輸入數字:\",10)\n",
    "print(value)"
   ]
  },
  {
   "cell_type": "code",
   "execution_count": 3,
   "metadata": {},
   "outputs": [
    {
     "name": "stdout",
     "output_type": "stream",
     "text": [
      "請輸入數字:50\n"
     ]
    }
   ],
   "source": [
    "#混和呼叫\n",
    "value = pyip.inputNum(\"請輸入數字:\",max=300, min=0)\n",
    "print(value)"
   ]
  },
  {
   "cell_type": "code",
   "execution_count": 6,
   "metadata": {},
   "outputs": [
    {
     "name": "stdout",
     "output_type": "stream",
     "text": [
      "請輸入yes,no:yes\n"
     ]
    }
   ],
   "source": [
    "is_yes = pyip.inputYesNo(\"請輸入yes,no:\")\n",
    "print(is_yes)"
   ]
  },
  {
   "cell_type": "code",
   "execution_count": 8,
   "metadata": {},
   "outputs": [
    {
     "name": "stdout",
     "output_type": "stream",
     "text": [
      "請輸入下列三個(早上,中午,下午):中午好!\n"
     ]
    }
   ],
   "source": [
    "#引數值呼叫\n",
    "state = pyip.inputChoice([\"早上\",\"中午\",\"下午\"],\"請輸入下列三個(早上,中午,下午):\")\n",
    "print(f\"{state}好!\")"
   ]
  },
  {
   "cell_type": "code",
   "execution_count": 4,
   "metadata": {},
   "outputs": [
    {
     "name": "stdout",
     "output_type": "stream",
     "text": [
      "請輸入下列三個(早上,中午,下午):'Y' is not a valid choice.\n",
      "請輸入下列三個(早上,中午,下午):早上好!\n"
     ]
    }
   ],
   "source": [
    "#皆用引數名稱呼叫\n",
    "state = pyip.inputChoice(choices=[\"早上\",\"中午\",\"下午\"],prompt=\"請輸入下列三個(早上,中午,下午):\")\n",
    "print(f\"{state}好!\")"
   ]
  },
  {
   "cell_type": "code",
   "execution_count": 5,
   "metadata": {},
   "outputs": [
    {
     "name": "stdout",
     "output_type": "stream",
     "text": [
      "請輸入下列三個(早上,中午,下午):早上好!\n"
     ]
    }
   ],
   "source": [
    "#混和呼叫\n",
    "state = pyip.inputChoice([\"早上\",\"中午\",\"下午\"],prompt=\"請輸入下列三個(早上,中午,下午):\")\n",
    "print(f\"{state}好!\")"
   ]
  },
  {
   "cell_type": "code",
   "execution_count": 8,
   "metadata": {},
   "outputs": [
    {
     "name": "stdout",
     "output_type": "stream",
     "text": [
      "請輸入下列3個:\n",
      "1. 早上\n",
      "2. 中午\n",
      "3. 下午\n",
      "下午\n"
     ]
    }
   ],
   "source": [
    "state = pyip.inputMenu([\"早上\",\"中午\",\"下午\"],\n",
    "                prompt=\"請輸入下列3個:\\n\",\n",
    "                numbered=True,\n",
    "                blank=True)\n",
    "print(state)"
   ]
  },
  {
   "cell_type": "code",
   "execution_count": null,
   "metadata": {},
   "outputs": [],
   "source": []
  }
 ],
 "metadata": {
  "kernelspec": {
   "display_name": "Python 3",
   "language": "python",
   "name": "python3"
  },
  "language_info": {
   "codemirror_mode": {
    "name": "ipython",
    "version": 3
   },
   "file_extension": ".py",
   "mimetype": "text/x-python",
   "name": "python",
   "nbconvert_exporter": "python",
   "pygments_lexer": "ipython3",
   "version": "3.10.13"
  }
 },
 "nbformat": 4,
 "nbformat_minor": 2
}
