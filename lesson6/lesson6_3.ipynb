{
 "cells": [
  {
   "cell_type": "code",
   "execution_count": 6,
   "metadata": {},
   "outputs": [
    {
     "name": "stdout",
     "output_type": "stream",
     "text": [
      "在120-250之間\n"
     ]
    }
   ],
   "source": [
    "height = int(input(\"請輸入身高(公分,120-250):\"))\n",
    "#巢狀判斷\n",
    "if height>=120:\n",
    "    if height <=250:\n",
    "        print(\"在120-250之間\")\n",
    "    else:\n",
    "        print(\"大於250,不在範圍內\")\n",
    "else:\n",
    "    print(\"小於120,不在範圍內\")"
   ]
  },
  {
   "cell_type": "code",
   "execution_count": 5,
   "metadata": {},
   "outputs": [
    {
     "name": "stdout",
     "output_type": "stream",
     "text": [
      "請輸入身高(公分,120-250):173公分\n",
      "在120-250之間\n"
     ]
    }
   ],
   "source": [
    "import pyinputplus as pyip\n",
    "#and\n",
    "height = pyip.inputInt(\"請輸入身高(公分,120-250):\")\n",
    "print(f\"{height}公分\")\n",
    "if height >= 120 and height <=250:\n",
    "    print(\"在120-250之間\")\n",
    "else:\n",
    "    print(\"不在範圍內\")"
   ]
  },
  {
   "cell_type": "code",
   "execution_count": 6,
   "metadata": {},
   "outputs": [
    {
     "name": "stdout",
     "output_type": "stream",
     "text": [
      "請輸入身高(公分,120-250):120公分\n",
      "在120-250之間\n"
     ]
    }
   ],
   "source": [
    "import pyinputplus as pyip\n",
    "#or\n",
    "height = pyip.inputInt(\"請輸入身高(公分,120-250):\")\n",
    "print(f\"{height}公分\")\n",
    "if height < 120 or height >250:\n",
    "    print(\"不在範圍內\")\n",
    "else:\n",
    "    print(\"在120-250之間\")"
   ]
  },
  {
   "cell_type": "code",
   "execution_count": 8,
   "metadata": {},
   "outputs": [
    {
     "name": "stdout",
     "output_type": "stream",
     "text": [
      "請輸入身高(公分,120-250):260公分\n",
      "不在範圍內\n"
     ]
    }
   ],
   "source": [
    "import pyinputplus as pyip\n",
    "#not\n",
    "height = pyip.inputInt(\"請輸入身高(公分,120-250):\")\n",
    "print(f\"{height}公分\")\n",
    "if not (height < 120 or height >250):\n",
    "    print(\"在120-250之間\")\n",
    "else:\n",
    "    print(\"不在範圍內\")"
   ]
  }
 ],
 "metadata": {
  "kernelspec": {
   "display_name": "Python 3",
   "language": "python",
   "name": "python3"
  },
  "language_info": {
   "codemirror_mode": {
    "name": "ipython",
    "version": 3
   },
   "file_extension": ".py",
   "mimetype": "text/x-python",
   "name": "python",
   "nbconvert_exporter": "python",
   "pygments_lexer": "ipython3",
   "version": "3.10.13"
  }
 },
 "nbformat": 4,
 "nbformat_minor": 2
}
