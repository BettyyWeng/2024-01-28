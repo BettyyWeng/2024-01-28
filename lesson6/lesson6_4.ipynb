{
 "cells": [
  {
   "cell_type": "code",
   "execution_count": 2,
   "metadata": {},
   "outputs": [
    {
     "name": "stdout",
     "output_type": "stream",
     "text": [
      "請輸入學生分數:Blank values are not allowed.\n",
      "請輸入學生分數:33\n",
      "不及格\n"
     ]
    }
   ],
   "source": [
    "#3個數值區段\n",
    "#使用巢狀判斷\n",
    "import pyinputplus as pyip\n",
    "scores = pyip.inputInt(\"請輸入學生分數:\")\n",
    "print(scores)\n",
    "if scores < 60:\n",
    "    print(\"不及格\")\n",
    "else:\n",
    "    if scores>=60 and scores<80:\n",
    "        print(\"甲\")\n",
    "    else:\n",
    "        print(\"優\")"
   ]
  },
  {
   "cell_type": "code",
   "execution_count": 5,
   "metadata": {},
   "outputs": [
    {
     "name": "stdout",
     "output_type": "stream",
     "text": [
      "請輸入學生分數:33\n",
      "不及格\n"
     ]
    }
   ],
   "source": [
    "#3個數值區段\n",
    "#使用多項選擇(else裡面有if,可用elif)\n",
    "import pyinputplus as pyip\n",
    "scores = pyip.inputInt(\"請輸入學生分數:\")\n",
    "print(scores)\n",
    "if scores < 60:\n",
    "    print(\"不及格\")\n",
    "elif scores>=60 and scores<80:\n",
    "        print(\"甲\")\n",
    "else:\n",
    "        print(\"優\")"
   ]
  },
  {
   "cell_type": "code",
   "execution_count": 6,
   "metadata": {},
   "outputs": [
    {
     "name": "stdout",
     "output_type": "stream",
     "text": [
      "請輸入學生分數:33\n",
      "不及格\n"
     ]
    }
   ],
   "source": [
    "#最標準\n",
    "#3個數值區段\n",
    "#使用巢狀判斷\n",
    "import pyinputplus as pyip\n",
    "scores = pyip.inputInt(\"請輸入學生分數:\")\n",
    "print(scores)\n",
    "if scores < 60:\n",
    "    print(\"不及格\")\n",
    "elif scores <80:\n",
    "        print(\"甲\")\n",
    "else:\n",
    "    print(\"優\")\n"
   ]
  },
  {
   "cell_type": "code",
   "execution_count": 5,
   "metadata": {},
   "outputs": [
    {
     "name": "stdout",
     "output_type": "stream",
     "text": [
      "請輸入體重(公斤,30-250):"
     ]
    },
    {
     "name": "stdout",
     "output_type": "stream",
     "text": [
      "Number must be at minimum 30.\n",
      "請輸入體重(公斤,30-250):44.5\n",
      "請輸入身高(公分,120-250):Number must be at maximum 250.\n",
      "請輸入身高(公分,120-250):147.8\n",
      "您的BMI為20.4\n",
      "您的體重正常\n"
     ]
    }
   ],
   "source": [
    "#HW(pyinputplus)\n",
    "#BMI = 體重(公斤)/身高(公尺)平方\n",
    "\n",
    "weight = pyip.inputFloat(\"請輸入體重(公斤,30-250):\", min=30,max=250)\n",
    "print(weight)\n",
    "height = pyip.inputFloat(\"請輸入身高(公分,120-250):\",min=120,max=250)\n",
    "print(height)\n",
    "BMI = weight/(height/100)**2\n",
    "print(f'您的BMI為{BMI:.1f}')\n",
    "\n",
    "if BMI <18.5:\n",
    "    print(\"您的體重過輕\")\n",
    "elif BMI <24:\n",
    "    print(\"您的體重正常\")\n",
    "elif BMI <27:\n",
    "    print(\"您的體重過重\")\n",
    "elif BMI <30:\n",
    "    print(\"輕度肥胖\")\n",
    "elif BMI <35:\n",
    "    print(\"中度肥胖\")\n",
    "else:\n",
    "    print(\"重度肥胖\")"
   ]
  },
  {
   "cell_type": "code",
   "execution_count": null,
   "metadata": {},
   "outputs": [],
   "source": [
    "#HW(try...except)\n",
    "#BMI = 體重(公斤)/身高(公尺)平方\n",
    "\n",
    "try:\n",
    "    weight = eval(input(\"請輸入體重(公斤):30-250\"))\n",
    "    height = eval(input(\"請輸入身高(公分):120-250\"))\n",
    "    if weight>=30 and weight<=250:\n",
    "        print(f\"您的體重為:{weight}公斤\")\n",
    "    else:\n",
    "        print(\"您的體重不在範圍內\")\n",
    "    if height>=120 and height<=250:\n",
    "        print(f\"您的身高為:{height}公分\")\n",
    "    else:\n",
    "        print(\"您的身高不在範圍內\")\n",
    "    BMI = weight/(height/100)**2\n",
    "    print(f'您的BMI為:{BMI:.2f}')\n",
    "    if BMI <18.5:\n",
    "        print(\"您的體重:過輕\")\n",
    "    elif BMI <24:\n",
    "        print(\"您的體重:正常\")\n",
    "    elif BMI <27:\n",
    "        print(\"您的體重:過重\")\n",
    "    elif BMI <30:\n",
    "        print(\"您的體重:輕度肥胖\")\n",
    "    elif BMI<35:\n",
    "        print(\"您的體重:中度肥胖\")\n",
    "    else:\n",
    "        print(\"您的體重:重度肥胖\")\n",
    "except:\n",
    "    print(\"您的格式有誤\")"
   ]
  }
 ],
 "metadata": {
  "kernelspec": {
   "display_name": "Python 3",
   "language": "python",
   "name": "python3"
  },
  "language_info": {
   "codemirror_mode": {
    "name": "ipython",
    "version": 3
   },
   "file_extension": ".py",
   "mimetype": "text/x-python",
   "name": "python",
   "nbconvert_exporter": "python",
   "pygments_lexer": "ipython3",
   "version": "3.10.13"
  }
 },
 "nbformat": 4,
 "nbformat_minor": 2
}
