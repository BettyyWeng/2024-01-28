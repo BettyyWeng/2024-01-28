{
 "cells": [
  {
   "cell_type": "code",
   "execution_count": 3,
   "metadata": {},
   "outputs": [
    {
     "data": {
      "text/plain": [
       "5050"
      ]
     },
     "execution_count": 3,
     "metadata": {},
     "output_type": "execute_result"
    }
   ],
   "source": [
    "\n",
    "#while,做明確知道執行的次數\n",
    "#若沒做line6,就變成無限迴圈\n",
    "#建立被檢查的變數-檢查變數-改變變數的值\n",
    "total = 0\n",
    "i = 1\n",
    "while(i<101):\n",
    "    total +=i\n",
    "    i +=1\n",
    "total\n"
   ]
  },
  {
   "cell_type": "code",
   "execution_count": 6,
   "metadata": {},
   "outputs": [
    {
     "name": "stdout",
     "output_type": "stream",
     "text": [
      "請輸入第1月份的存款:12333\n",
      "請輸入第2月份的存款:2111\n",
      "請輸入第3月份的存款:123456\n",
      "恭喜!已經存夠137900元了!共存了3個月份\n"
     ]
    }
   ],
   "source": [
    "#while,做不知道執行的次數\n",
    "#建立被檢查的變數-檢查變數-改變變數的值(每次都不一樣的數值)\n",
    "#小明想要存錢買機車，機車每輛3萬元，他將每月存的錢輸入，當款足夠買機車時，就顯示訊息告知。\n",
    "import pyinputplus as pyip\n",
    "#(較不靈活)\n",
    "\n",
    "deposit:int = 0\n",
    "count:int = 0\n",
    "while(deposit<30000):\n",
    "    count +=1\n",
    "    value:int = pyip.inputInt(f'請輸入第{count}月份的存款:')\n",
    "    print(value)\n",
    "    deposit +=value\n",
    "\n",
    "print(f\"恭喜!已經存夠{deposit}元了!共存了{count}個月份\")"
   ]
  },
  {
   "cell_type": "code",
   "execution_count": 8,
   "metadata": {},
   "outputs": [
    {
     "name": "stdout",
     "output_type": "stream",
     "text": [
      "請輸入第1月份的存款:11111\n",
      "請輸入第2月份的存款:22222\n",
      "恭喜!已經存夠33333元了!共存了2個月份\n"
     ]
    }
   ],
   "source": [
    "#小明想要存錢買機車，機車每輛3萬元，他將每月存的錢輸入，當款足夠買機車時，就顯示訊息告知。\n",
    "#(較靈活，使用break跳出迴圈)\n",
    "import pyinputplus as pyip\n",
    "\n",
    "\n",
    "deposit:int = 0\n",
    "count:int = 0\n",
    "while(True):\n",
    "    count +=1\n",
    "    value:int = pyip.inputInt(f'請輸入第{count}月份的存款:')\n",
    "    print(value)\n",
    "    deposit +=value\n",
    "    if deposit >=30000:\n",
    "        break\n",
    "\n",
    "print(f\"恭喜!已經存夠{deposit}元了!共存了{count}個月份\")"
   ]
  }
 ],
 "metadata": {
  "kernelspec": {
   "display_name": "Python 3",
   "language": "python",
   "name": "python3"
  },
  "language_info": {
   "codemirror_mode": {
    "name": "ipython",
    "version": 3
   },
   "file_extension": ".py",
   "mimetype": "text/x-python",
   "name": "python",
   "nbconvert_exporter": "python",
   "pygments_lexer": "ipython3",
   "version": "3.10.13"
  }
 },
 "nbformat": 4,
 "nbformat_minor": 2
}
