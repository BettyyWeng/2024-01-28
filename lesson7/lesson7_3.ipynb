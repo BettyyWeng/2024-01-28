{
 "cells": [
  {
   "cell_type": "code",
   "execution_count": 1,
   "metadata": {},
   "outputs": [
    {
     "data": {
      "text/plain": [
       "b'U2LN\\x1b\\x14\\xc7j50\\x99E\\x95\\xa7\\x15\\xe5\\x08\\x16#\\x88\\x94R\\x9bRn\\x8a\\x0eO\\x0c>\\xb8\\xb5'"
      ]
     },
     "execution_count": 1,
     "metadata": {},
     "output_type": "execute_result"
    }
   ],
   "source": [
    "import secrets\n",
    "secrets.token_bytes()"
   ]
  },
  {
   "cell_type": "code",
   "execution_count": 6,
   "metadata": {},
   "outputs": [
    {
     "data": {
      "text/plain": [
       "'4df8cbc1f60a51dfcb6139062928dbe917134878916398dd0c15210a96b1d61d'"
      ]
     },
     "execution_count": 6,
     "metadata": {},
     "output_type": "execute_result"
    }
   ],
   "source": [
    "secrets.token_hex()"
   ]
  },
  {
   "cell_type": "code",
   "execution_count": 2,
   "metadata": {},
   "outputs": [
    {
     "data": {
      "text/plain": [
       "2"
      ]
     },
     "execution_count": 2,
     "metadata": {},
     "output_type": "execute_result"
    }
   ],
   "source": [
    "import random\n",
    "random.randrange(3) #亂數0,1,2"
   ]
  },
  {
   "cell_type": "code",
   "execution_count": 22,
   "metadata": {},
   "outputs": [
    {
     "data": {
      "text/plain": [
       "10"
      ]
     },
     "execution_count": 22,
     "metadata": {},
     "output_type": "execute_result"
    }
   ],
   "source": [
    "random.randint(1,10)"
   ]
  },
  {
   "cell_type": "code",
   "execution_count": 26,
   "metadata": {},
   "outputs": [
    {
     "data": {
      "text/plain": [
       "['c']"
      ]
     },
     "execution_count": 26,
     "metadata": {},
     "output_type": "execute_result"
    }
   ],
   "source": [
    "random.choices(['a','b','c'])"
   ]
  },
  {
   "cell_type": "code",
   "execution_count": 4,
   "metadata": {},
   "outputs": [
    {
     "name": "stdout",
     "output_type": "stream",
     "text": [
      "請輸入整數:20,求所有因數:\n",
      "20的因數有1\n",
      "20的因數有2\n",
      "20的因數有4\n",
      "20的因數有5\n",
      "20的因數有10\n",
      "20的因數有20\n"
     ]
    }
   ],
   "source": [
    "#HW\n",
    "#輸入整數，求所有因數\n",
    "#輸出其所有因數\n",
    "#除數=divisor 被除數=number 餘數=remainder\n",
    "import pyinputplus as pyip\n",
    "\n",
    "number = pyip.inputInt(\"請輸入整數:\")\n",
    "print(f'{number},求所有因數:')\n",
    "divisor:int = 0\n",
    "while divisor <=number:\n",
    "    divisor +=1\n",
    "    if (number%divisor) == 0:\n",
    "        print(f'{number}的因數有{divisor}')\n",
    "    if divisor > number:\n",
    "        break\n",
    "\n",
    "\n",
    "\n"
   ]
  }
 ],
 "metadata": {
  "kernelspec": {
   "display_name": "Python 3",
   "language": "python",
   "name": "python3"
  },
  "language_info": {
   "codemirror_mode": {
    "name": "ipython",
    "version": 3
   },
   "file_extension": ".py",
   "mimetype": "text/x-python",
   "name": "python",
   "nbconvert_exporter": "python",
   "pygments_lexer": "ipython3",
   "version": "3.10.13"
  }
 },
 "nbformat": 4,
 "nbformat_minor": 2
}
