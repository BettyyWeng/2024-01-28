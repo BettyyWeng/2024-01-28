{
 "cells": [
  {
   "cell_type": "code",
   "execution_count": null,
   "metadata": {},
   "outputs": [],
   "source": [
    "import random\n",
    "\n",
    "min = 1\n",
    "max = 100\n",
    "guess = random.randint(min,max)\n",
    "count = 0\n",
    "\n",
    "print(\"=====猜數字遊戲======\\n\\n\")\n",
    "#print(f'要猜的數字是{guess}')\n",
    "\n",
    "while(True):\n",
    "    try:\n",
    "        keyin = int(input(f\"猜數字範圍{min}~{max}\"))\n",
    "        count +=1\n",
    "        if(keyin<=max and keyin >=min):\n",
    "            if (keyin == guess):\n",
    "                print(f\"Bingo!你猜對了，答案是:{guess}\")\n",
    "                print(f\"您猜了{count}次了\")\n",
    "                break\n",
    "            elif keyin > guess:\n",
    "                print(\"再小一點\")\n",
    "                max = keyin - 1\n",
    "            elif keyin < guess:\n",
    "                print(\"再大一點\")\n",
    "                min = keyin +1\n",
    "        else:\n",
    "            print(\"超出範圍\")\n",
    "    except:\n",
    "        print(\"輸入格式錯誤\")\n",
    "        count +=1\n",
    "    print(f\"您已經猜了{count}次\")\n",
    "print(\"遊戲結束\")\n",
    "    \n"
   ]
  },
  {
   "cell_type": "code",
   "execution_count": 6,
   "metadata": {},
   "outputs": [
    {
     "name": "stdout",
     "output_type": "stream",
     "text": [
      "您還要繼續嗎?\n",
      "1. yes\n",
      "2. no\n",
      "Blank values are not allowed.\n",
      "您還要繼續嗎?\n",
      "1. yes\n",
      "2. no\n"
     ]
    },
    {
     "data": {
      "text/plain": [
       "'no'"
      ]
     },
     "execution_count": 6,
     "metadata": {},
     "output_type": "execute_result"
    }
   ],
   "source": [
    "import pyinputplus as pyip\n",
    "\n",
    "menu_value = pyip.inputMenu([\"yes\",\"no\"],prompt=\"您還要繼續嗎?\\n\",numbered=True)\n",
    "menu_value"
   ]
  },
  {
   "cell_type": "code",
   "execution_count": 8,
   "metadata": {},
   "outputs": [
    {
     "name": "stdout",
     "output_type": "stream",
     "text": [
      "=====猜數字遊戲======\n",
      "\n",
      "\n",
      "要猜的數字是35\n",
      "再大一點\n",
      "您已經猜了1次\n",
      "Bingo!你猜對了，答案是:35\n",
      "您猜了2次了\n",
      "您還要繼續嗎?\n",
      "1. yes\n",
      "2. no\n",
      "=====猜數字遊戲======\n",
      "\n",
      "\n",
      "要猜的數字是97\n",
      "再大一點\n",
      "您已經猜了1次\n",
      "Bingo!你猜對了，答案是:97\n",
      "您猜了2次了\n",
      "您還要繼續嗎?\n",
      "1. yes\n",
      "2. no\n",
      "遊戲結束\n"
     ]
    }
   ],
   "source": [
    "import pyinputplus as pyip\n",
    "import random\n",
    "\n",
    "while(True):\n",
    "    min = 1\n",
    "    max = 100\n",
    "    guess = random.randint(min,max)\n",
    "    count = 0\n",
    "\n",
    "    print(\"=====猜數字遊戲======\\n\\n\")\n",
    "    print(f'要猜的數字是{guess}')\n",
    "\n",
    "    while(True):\n",
    "        try:\n",
    "            keyin = int(input(f\"猜數字範圍{min}~{max}\"))\n",
    "            count +=1\n",
    "            if(keyin<=max and keyin >=min):\n",
    "                if (keyin == guess):\n",
    "                    print(f\"Bingo!你猜對了，答案是:{guess}\")\n",
    "                    print(f\"您猜了{count}次了\")\n",
    "                    break\n",
    "                elif keyin > guess:\n",
    "                    print(\"再小一點\")\n",
    "                    max = keyin - 1\n",
    "                elif keyin < guess:\n",
    "                    print(\"再大一點\")\n",
    "                    min = keyin +1\n",
    "            else:\n",
    "                print(\"超出範圍\")\n",
    "        except:\n",
    "            print(\"輸入格式錯誤\")\n",
    "            count +=1\n",
    "        print(f\"您已經猜了{count}次\")\n",
    "    menu_value = pyip.inputMenu([\"yes\",\"no\"],prompt=\"您還要繼續嗎?\\n\",numbered=True)\n",
    "    if menu_value == 'no':\n",
    "        break\n",
    "print(\"遊戲結束\")"
   ]
  }
 ],
 "metadata": {
  "kernelspec": {
   "display_name": "Python 3",
   "language": "python",
   "name": "python3"
  },
  "language_info": {
   "codemirror_mode": {
    "name": "ipython",
    "version": 3
   },
   "file_extension": ".py",
   "mimetype": "text/x-python",
   "name": "python",
   "nbconvert_exporter": "python",
   "pygments_lexer": "ipython3",
   "version": "3.10.13"
  }
 },
 "nbformat": 4,
 "nbformat_minor": 2
}
