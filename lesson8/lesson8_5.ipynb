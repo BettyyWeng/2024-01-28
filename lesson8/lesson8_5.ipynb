{
 "cells": [
  {
   "cell_type": "code",
   "execution_count": 1,
   "metadata": {},
   "outputs": [],
   "source": [
    "#自訂的function,一定要先執行過一次才會被記憶\n",
    "def circle_area(r:float)->float:\n",
    "    area = 3.1415926 * r **2\n",
    "    return area"
   ]
  },
  {
   "cell_type": "code",
   "execution_count": 2,
   "metadata": {},
   "outputs": [
    {
     "data": {
      "text/plain": [
       "10495.558221784"
      ]
     },
     "execution_count": 2,
     "metadata": {},
     "output_type": "execute_result"
    }
   ],
   "source": [
    "#呼叫function\n",
    "circle_area(92.5)\n",
    "circle_area(43.3)\n",
    "\n",
    "#與function的radius不衝突\n",
    "radius = 57.8\n",
    "circle_area(radius) #引數值的呼叫\n",
    "circle_area(r=radius) #引數名稱呼叫 #結果與上行一樣"
   ]
  }
 ],
 "metadata": {
  "kernelspec": {
   "display_name": "Python 3",
   "language": "python",
   "name": "python3"
  },
  "language_info": {
   "codemirror_mode": {
    "name": "ipython",
    "version": 3
   },
   "file_extension": ".py",
   "mimetype": "text/x-python",
   "name": "python",
   "nbconvert_exporter": "python",
   "pygments_lexer": "ipython3",
   "version": "3.10.13"
  }
 },
 "nbformat": 4,
 "nbformat_minor": 2
}
