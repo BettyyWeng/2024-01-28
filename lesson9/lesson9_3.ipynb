{
 "cells": [
  {
   "cell_type": "code",
   "execution_count": 2,
   "metadata": {},
   "outputs": [
    {
     "name": "stdout",
     "output_type": "stream",
     "text": [
      "[['筆記電腦', '商用筆電', '電競筆電'], ['APPLE', 'ASUS', 'HTC'], ['冰箱', '洗衣機', '電視']]\n"
     ]
    }
   ],
   "source": [
    "#二維表格\n",
    "from pprint import pprint\n",
    "\n",
    "nb:list[str] = ['筆記電腦','商用筆電','電競筆電'] #type hint\n",
    "mobile:list[str] = ['APPLE','ASUS','HTC']\n",
    "home:list[str] = ['冰箱','洗衣機','電視']\n",
    "\n",
    "all3c = [nb, mobile, home] #變數第一個字不可為數字\n",
    "pprint(all3c)"
   ]
  },
  {
   "cell_type": "code",
   "execution_count": 8,
   "metadata": {},
   "outputs": [
    {
     "data": {
      "text/plain": [
       "[['冰箱', '洗衣機', '電視'], ['APPLE', 'ASUS', 'HTC'], ['筆記電腦', '商用筆電', '電競筆電']]"
      ]
     },
     "execution_count": 8,
     "metadata": {},
     "output_type": "execute_result"
    }
   ],
   "source": [
    "#使用list的實體方法,append()\n",
    "all3c:list[list[str]] = []\n",
    "all3c.append(nb)\n",
    "all3c.append(mobile)\n",
    "all3c.append(home)\n",
    "all3c\n"
   ]
  },
  {
   "cell_type": "code",
   "execution_count": 18,
   "metadata": {},
   "outputs": [
    {
     "data": {
      "text/plain": [
       "[['冰箱', '洗衣機', '電視'], ['APPLE', 'ASUS', 'HTC'], ['筆記電腦', '商用筆電', '電競筆電']]"
      ]
     },
     "execution_count": 18,
     "metadata": {},
     "output_type": "execute_result"
    }
   ],
   "source": [
    "all3c.reverse()\n",
    "all3c"
   ]
  },
  {
   "cell_type": "code",
   "execution_count": 19,
   "metadata": {},
   "outputs": [
    {
     "data": {
      "text/plain": [
       "78"
      ]
     },
     "execution_count": 19,
     "metadata": {},
     "output_type": "execute_result"
    }
   ],
   "source": [
    "import random\n",
    "random.randint(50,100)"
   ]
  },
  {
   "cell_type": "code",
   "execution_count": 21,
   "metadata": {},
   "outputs": [
    {
     "data": {
      "text/plain": [
       "94"
      ]
     },
     "execution_count": 21,
     "metadata": {},
     "output_type": "execute_result"
    }
   ],
   "source": [
    "from random import randint\n",
    "randint(50,100)"
   ]
  },
  {
   "cell_type": "code",
   "execution_count": 22,
   "metadata": {},
   "outputs": [
    {
     "data": {
      "text/plain": [
       "[53, 78, 58, 70, 100]"
      ]
     },
     "execution_count": 22,
     "metadata": {},
     "output_type": "execute_result"
    }
   ],
   "source": [
    "from random import randint\n",
    "stu1:list[int] = [randint(50,100),randint(50,100),randint(50,100),randint(50,100),randint(50,100)]\n",
    "stu1"
   ]
  },
  {
   "cell_type": "code",
   "execution_count": 27,
   "metadata": {},
   "outputs": [
    {
     "data": {
      "text/plain": [
       "[73, 61, 78, 88, 70]"
      ]
     },
     "execution_count": 27,
     "metadata": {},
     "output_type": "execute_result"
    }
   ],
   "source": [
    "#先建立實體名稱,再加上實體方法\n",
    "stu2:list[int] = []\n",
    "for i in range(5):\n",
    "    stu2.append(randint(50,100))\n",
    "stu2"
   ]
  },
  {
   "cell_type": "code",
   "execution_count": 28,
   "metadata": {},
   "outputs": [
    {
     "data": {
      "text/plain": [
       "[53, 78, 66, 91, 95]"
      ]
     },
     "execution_count": 28,
     "metadata": {},
     "output_type": "execute_result"
    }
   ],
   "source": [
    "#若沒有用到i,可用省略運算子'_',結果一樣\n",
    "stu2:list[int] = []\n",
    "for _ in range(5):\n",
    "    stu2.append(randint(50,100))\n",
    "stu2"
   ]
  },
  {
   "cell_type": "code",
   "execution_count": 31,
   "metadata": {},
   "outputs": [
    {
     "data": {
      "text/plain": [
       "[97, 91, 64, 71, 65]"
      ]
     },
     "execution_count": 31,
     "metadata": {},
     "output_type": "execute_result"
    }
   ],
   "source": [
    "#list comprehension->快速建立list\n",
    "#[值 for...in...]\n",
    "stu3:list[int] = [randint(50,100) for _ in range(5)]\n",
    "stu3"
   ]
  },
  {
   "cell_type": "code",
   "execution_count": 33,
   "metadata": {},
   "outputs": [
    {
     "name": "stdout",
     "output_type": "stream",
     "text": [
      "[[55, 53, 84, 81, 63],\n",
      " [87, 91, 61, 67, 95],\n",
      " [76, 93, 63, 95, 57],\n",
      " [67, 92, 61, 62, 71],\n",
      " [97, 70, 88, 86, 87],\n",
      " [100, 62, 99, 99, 50],\n",
      " [72, 83, 78, 55, 93],\n",
      " [52, 73, 83, 71, 100],\n",
      " [84, 98, 69, 72, 73],\n",
      " [58, 78, 64, 73, 80],\n",
      " [57, 64, 56, 93, 86],\n",
      " [53, 60, 65, 77, 84],\n",
      " [93, 89, 81, 63, 65],\n",
      " [81, 88, 96, 66, 62],\n",
      " [73, 52, 57, 67, 95],\n",
      " [51, 62, 90, 91, 63],\n",
      " [93, 72, 90, 72, 70],\n",
      " [59, 89, 77, 71, 97],\n",
      " [86, 90, 81, 60, 59],\n",
      " [54, 57, 56, 97, 85],\n",
      " [57, 92, 59, 50, 92],\n",
      " [62, 54, 70, 72, 78],\n",
      " [64, 86, 77, 66, 79],\n",
      " [75, 69, 50, 71, 74],\n",
      " [57, 75, 50, 86, 99],\n",
      " [52, 89, 64, 81, 100],\n",
      " [71, 57, 77, 78, 75],\n",
      " [62, 93, 96, 94, 52],\n",
      " [65, 81, 64, 72, 59],\n",
      " [92, 66, 81, 67, 88],\n",
      " [69, 84, 52, 97, 53],\n",
      " [51, 87, 78, 57, 72],\n",
      " [89, 73, 56, 84, 77],\n",
      " [66, 93, 79, 63, 51],\n",
      " [66, 92, 99, 77, 94],\n",
      " [61, 62, 87, 68, 52],\n",
      " [95, 59, 89, 66, 56],\n",
      " [74, 72, 88, 69, 93],\n",
      " [60, 54, 72, 87, 65],\n",
      " [73, 61, 81, 95, 50],\n",
      " [97, 99, 52, 73, 89],\n",
      " [68, 58, 56, 98, 90],\n",
      " [76, 98, 72, 79, 63],\n",
      " [84, 81, 77, 79, 91],\n",
      " [87, 85, 91, 54, 68],\n",
      " [74, 91, 95, 56, 87],\n",
      " [81, 82, 79, 52, 84],\n",
      " [57, 73, 93, 88, 64],\n",
      " [71, 90, 92, 74, 58],\n",
      " [92, 65, 59, 68, 86]]\n"
     ]
    }
   ],
   "source": [
    "from pprint import pprint\n",
    "students:list[list[str]] = []\n",
    "for _ in range(50):\n",
    "    stu:list[int] = [randint(50,100) for _ in range(5)]\n",
    "    students.append(stu)\n",
    "\n",
    "pprint(students)"
   ]
  }
 ],
 "metadata": {
  "kernelspec": {
   "display_name": "Python 3",
   "language": "python",
   "name": "python3"
  },
  "language_info": {
   "codemirror_mode": {
    "name": "ipython",
    "version": 3
   },
   "file_extension": ".py",
   "mimetype": "text/x-python",
   "name": "python",
   "nbconvert_exporter": "python",
   "pygments_lexer": "ipython3",
   "version": "3.10.13"
  }
 },
 "nbformat": 4,
 "nbformat_minor": 2
}
